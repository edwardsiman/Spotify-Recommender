{
 "cells": [
  {
   "cell_type": "markdown",
   "id": "392a07a1",
   "metadata": {},
   "source": [
    "## Import the Libraries"
   ]
  },
  {
   "cell_type": "code",
   "execution_count": 1,
   "id": "11a180dd",
   "metadata": {},
   "outputs": [],
   "source": [
    "import pandas as pd\n",
    "import numpy as np\n",
    "import seaborn as sns\n",
    "import matplotlib.pyplot as plt\n",
    "import spotipy\n",
    "import yaml\n",
    "from spotipy.oauth2 import SpotifyOAuth\n",
    "from scipy.sparse import csr_matrix\n",
    "from sklearn.feature_extraction.text import TfidfVectorizer\n",
    "from sklearn.metrics.pairwise import cosine_similarity\n",
    "from sklearn.neighbors import NearestNeighbors\n",
    "from sklearn.preprocessing import MinMaxScaler"
   ]
  },
  {
   "cell_type": "markdown",
   "id": "f1428b1d",
   "metadata": {},
   "source": [
    "## Extract the Dataset"
   ]
  },
  {
   "cell_type": "code",
   "execution_count": 2,
   "id": "42477f1e",
   "metadata": {},
   "outputs": [],
   "source": [
    "#Read the data of top artists and tracks alongside the saved playlist\n",
    "df_top_artist = pd.read_pickle('spotify/top_artists.pkl')\n",
    "df_top_tracks = pd.read_pickle('spotify/top_tracks.pkl')\n",
    "df_playlist_tracks = pd.read_pickle('spotify/playlist_tracks.pkl')\n",
    "df_recommendation = pd.read_pickle('spotify/recommendation_tracks.pkl')"
   ]
  },
  {
   "cell_type": "markdown",
   "id": "909977de",
   "metadata": {},
   "source": [
    "## Data Preprocessing"
   ]
  },
  {
   "cell_type": "code",
   "execution_count": 3,
   "id": "d5a1a883",
   "metadata": {},
   "outputs": [],
   "source": [
    "#Standardize the popularity rating to between 0-1\n",
    "df_top_tracks['popularity'] = df_top_tracks['popularity'] / 100\n",
    "df_playlist_tracks['popularity'] = df_playlist_tracks['popularity'] / 100\n",
    "\n",
    "#Remove duplicate songs\n",
    "df_playlist_tracks = df_playlist_tracks.drop_duplicates(subset = 'name', keep = 'first')\n",
    "\n",
    "#Drop the unwanted column\n",
    "df_top_artist = df_top_artist.drop(['uri','type'], axis = 1)\n",
    "df_top_tracks = df_top_tracks.drop(['type','is_local','album_artist_id','album_artist_name','album_tracks',\n",
    "                                    'album_type','album_genres','uri','track_href','analysis_url'], axis = 1)\n",
    "df_playlist_tracks = df_playlist_tracks.drop(['type','is_local','album_artist_id','album_artist_name',\n",
    "                                              'album_tracks','album_type','album_genres','playlist_id',\n",
    "                                              'playlist_name','playlist_tracks','added_at','added_by','uri',\n",
    "                                              'track_href','analysis_url'], axis = 1)"
   ]
  },
  {
   "cell_type": "code",
   "execution_count": 4,
   "id": "126b11a6",
   "metadata": {},
   "outputs": [],
   "source": [
    "#Combine the top_tracks and playlist_tracks together by using union and check for duplicates\n",
    "df_tracks = pd.concat([df_top_tracks, df_playlist_tracks], axis = 0)\n",
    "df_tracks = df_tracks.drop_duplicates(subset = 'name', keep = 'first')\n",
    "\n",
    "#Fill the na value in the data with 0\n",
    "df_tracks = df_tracks.fillna(0)\n",
    "\n",
    "#Reset the index for the combined dataset\n",
    "df_tracks = df_tracks.reset_index()"
   ]
  },
  {
   "cell_type": "markdown",
   "id": "1276e8ab",
   "metadata": {},
   "source": [
    "## Collaborative Recommendation"
   ]
  },
  {
   "cell_type": "code",
   "execution_count": 13,
   "id": "924f444d",
   "metadata": {},
   "outputs": [
    {
     "data": {
      "text/plain": [
       "NearestNeighbors(metric='cosine', n_neighbors=15)"
      ]
     },
     "execution_count": 13,
     "metadata": {},
     "output_type": "execute_result"
    }
   ],
   "source": [
    "#Pick the numerical column from the dataset\n",
    "numerics = ['int16', 'int32', 'int64', 'float16', 'float32', 'float64']\n",
    "df_tracks_numeric = df_tracks.select_dtypes(include=numerics)\n",
    "df_tracks_numeric = df_tracks_numeric.drop(['index','duration_ms','disc_number','track_number'], axis=1)\n",
    "\n",
    "#Normalize the values inside dataframe and turn into csr matrix\n",
    "standardization = MinMaxScaler()\n",
    "x_val = standardization.fit_transform(df_tracks_numeric.values)\n",
    "df_tracks_numeric = pd.DataFrame(x_val)\n",
    "df_tracks_numeric = csr_matrix(df_tracks_numeric.values)\n",
    "\n",
    "#Train the data using K Nearest Neigbors\n",
    "knn = NearestNeighbors(n_neighbors = 15, metric = 'cosine', algorithm = 'auto')\n",
    "knn.fit(df_tracks_numeric)"
   ]
  },
  {
   "cell_type": "code",
   "execution_count": 39,
   "id": "a0c93055",
   "metadata": {},
   "outputs": [],
   "source": [
    "#Get the recommendation from some of the songs using collaborative recommendation\n",
    "def recommend_songs_collaborative(song_name,n_songs):\n",
    "    songs_list = df_tracks[df_tracks['name'].str.contains(song_name)]\n",
    "    if len(songs_list) > 0:\n",
    "        songs_idx = songs_list.iloc[0]['id']\n",
    "        songs_idx = df_tracks[df_tracks['id'] == songs_idx].index[0]\n",
    "        distances,indices = knn.kneighbors(df_tracks_numeric[songs_idx],n_neighbors=n_songs+1)    \n",
    "        rec_song_indices = sorted(list(zip(indices.squeeze().tolist(),distances.squeeze().tolist())),key=lambda x: x[1])[1:]\n",
    "        recommend_list = []\n",
    "        for val in rec_song_indices:\n",
    "            song_idx = df_tracks.iloc[val[0]]['id']\n",
    "            idx = df_tracks[df_tracks['id'] == song_idx].index\n",
    "            recommend_list.append({'Title':df_tracks.iloc[idx]['name'].values[0],'Distance':val[1]})\n",
    "        df = pd.DataFrame(recommend_list,index=range(1,n_songs+1))\n",
    "        return df\n",
    "    else:\n",
    "        return \"No songs found. Please check your input\"\n",
    "\n",
    "#Test by creating a song recommendation \n",
    "df_recommended_songs = recommend_songs_collaborative('Careless Whisper',10)"
   ]
  },
  {
   "cell_type": "markdown",
   "id": "5304654c",
   "metadata": {},
   "source": [
    "## Content Recommendation"
   ]
  },
  {
   "cell_type": "markdown",
   "id": "2e306702",
   "metadata": {},
   "source": [
    "### TF-IDF Vectorizer"
   ]
  },
  {
   "cell_type": "code",
   "execution_count": 15,
   "id": "a5da087d",
   "metadata": {},
   "outputs": [],
   "source": [
    "#Preprocess the data further before putting it into TF-IDF Vectorizer\n",
    "\n",
    "#Combine the various genres under one string\n",
    "df_tracks['genres_combine'] = df_tracks['genres'].apply(lambda x: ' '.join(x))\n",
    "\n",
    "#Lower the string and combine the name for album and artists\n",
    "df_tracks['artist_name'] = df_tracks['artist_name'].apply(lambda x: x.lower())\n",
    "df_tracks['artist_name'] = df_tracks['artist_name'].apply(lambda x: ''.join(x.split()))\n",
    "df_tracks['album_name'] = df_tracks['album_name'].apply(lambda x: x.lower())\n",
    "df_tracks['album_name'] = df_tracks['album_name'].apply(lambda x: ''.join(x.split()))\n",
    "\n",
    "#Combine the required information under one column\n",
    "df_tracks['overview'] = df_tracks['genres_combine'] + ' ' + df_tracks['artist_name'] + ' ' + df_tracks['album_name']\n",
    "df_content_recommendation = df_tracks[['name','overview']]"
   ]
  },
  {
   "cell_type": "code",
   "execution_count": 16,
   "id": "86d95977",
   "metadata": {},
   "outputs": [],
   "source": [
    "#Create and categorize the words using TF-IDF Vectorizer\n",
    "vectorizer = TfidfVectorizer(analyzer='word',\n",
    "                             ngram_range=(1,2),\n",
    "                             min_df=0.003, \n",
    "                             max_df=0.5, \n",
    "                             stop_words='english', \n",
    "                             max_features=5000)\n",
    "\n",
    "track_matrix = vectorizer.fit_transform(df_tracks['overview'])"
   ]
  },
  {
   "cell_type": "code",
   "execution_count": 17,
   "id": "ef59b01b",
   "metadata": {},
   "outputs": [],
   "source": [
    "#Perform further analysis using cosine similarity to calculate the distance and similar value between songs\n",
    "cos_sim = cosine_similarity(track_matrix, track_matrix)\n",
    "\n",
    "#Generate a new DataFrame to obtain the track title for recommendation later\n",
    "track_title = df_tracks['name']\n",
    "# indices = pd.Series(df_tracks.index, index=df_tracks['name'])"
   ]
  },
  {
   "cell_type": "code",
   "execution_count": 18,
   "id": "53328a1f",
   "metadata": {},
   "outputs": [],
   "source": [
    "#Get the recommendation from some of the songs using content recommendation\n",
    "def recommend_songs_content(song_name,n_songs):\n",
    "    if len(song_name) > 0:\n",
    "        songs_idx = df_tracks.index[df_tracks['name'].str.contains(song_name)]\n",
    "        similarity_scores = list(enumerate(cos_sim[songs_idx[0]]))\n",
    "        similarity_scores = sorted(similarity_scores, key=lambda x: x[1], reverse=True)\n",
    "        similarity_scores = similarity_scores[:n_songs]\n",
    "        songs_indices = [song[0] for song in similarity_scores if song[0] != songs_idx[0]]\n",
    "        songs_title = track_title.iloc[songs_indices]\n",
    "        songs_title = songs_title.reset_index(drop=True)\n",
    "        songs_scores = pd.Series([song[1] for song in similarity_scores if song[0] != songs_idx[0]])\n",
    "        frame = {'Title': songs_title, 'Score': songs_scores}\n",
    "        songs = pd.DataFrame(frame)\n",
    "        return songs\n",
    "    else:\n",
    "        return \"No songs found. Please check your input\"\n",
    "    \n",
    "#Test by creating a song recommendation \n",
    "df_recommended_songs_content = recommend_songs_content('Careless Whisper',20)"
   ]
  },
  {
   "cell_type": "markdown",
   "id": "9c98d535",
   "metadata": {},
   "source": [
    "## Hybrid Recommendation"
   ]
  },
  {
   "cell_type": "code",
   "execution_count": 38,
   "id": "358c91f9",
   "metadata": {},
   "outputs": [],
   "source": [
    "#Create a recommendation by combining content recommendation and collaborative recommendation\n",
    "def recommend_songs_hybrid(song_name, n, content_weight=2, collaborative_weight=1):\n",
    "    #Content Recommendation\n",
    "    songs_idx = df_tracks.index[df_tracks['name'].str.contains(song_name)]\n",
    "    similarity_scores = list(enumerate(cos_sim[songs_idx[0]]))\n",
    "    similarity_scores = sorted(similarity_scores, key=lambda x: x[1], reverse=True)\n",
    "    songs_indices = [song[0] for song in similarity_scores if song[0] != songs_idx[0]]\n",
    "    songs_title = track_title.iloc[songs_indices]\n",
    "    songs_title = songs_title.reset_index(drop=True)\n",
    "    songs_scores = pd.Series([song[1] for song in similarity_scores if song[0] != songs_idx[0]])\n",
    "    frame = {'Title': songs_title, 'Score': songs_scores}\n",
    "    songs = pd.DataFrame(frame)\n",
    "    \n",
    "    #Collaborative Recommendation\n",
    "    n_songs = len(df_tracks)\n",
    "    songs_list = df_tracks[df_tracks['name'].str.contains(song_name)]\n",
    "    songs_id = songs_list.iloc[0]['id']\n",
    "    songs_id = df_tracks[df_tracks['id'] == songs_id].index[0]\n",
    "    distances,indices = knn.kneighbors(df_tracks_numeric[songs_id],n_neighbors=n_songs)    \n",
    "    rec_song_indices = sorted(list(zip(indices.squeeze().tolist(),distances.squeeze().tolist())),key=lambda x: x[1])[1:]\n",
    "    recommend_list = []\n",
    "    for val in rec_song_indices:\n",
    "        song_idx = df_tracks.iloc[val[0]]['id']\n",
    "        idx = df_tracks[df_tracks['id'] == song_idx].index\n",
    "        recommend_list.append({'Title':df_tracks.iloc[idx]['name'].values[0],'Distance':val[1]})\n",
    "    df = pd.DataFrame(recommend_list,index=range(1,n_songs))\n",
    "    \n",
    "    #Merge both the dataframe to calculate the overall distance\n",
    "    df_recommended = pd.merge(songs, df, how='inner', left_on='Title', right_on='Title')\n",
    "    \n",
    "    #Standardize the value of distance as the lower score indicate the better tracks in distance\n",
    "    df_recommended['Distance'] = 1 / df_recommended['Distance']\n",
    "    max_score = df_recommended['Distance'].max()\n",
    "    df_recommended['Distance'] = df_recommended['Distance'] / max_score\n",
    "    \n",
    "    #Calculate the combined score from respective weight of recommendation\n",
    "    df_recommended['Combined_Score'] = df_recommended['Score'] * content_weight + df_recommended['Distance'] * collaborative_weight\n",
    "    df_recommended = df_recommended.sort_values(by='Combined_Score', ascending=False)\n",
    "    df_recommended = df_recommended.drop(['Score','Distance'], axis=1)\n",
    "    return df_recommended[:n]\n",
    "    \n",
    "#Test the function\n",
    "df_recommended = recommend_songs_hybrid('Careless Whisper', 10)"
   ]
  },
  {
   "cell_type": "markdown",
   "id": "73e2dde4",
   "metadata": {},
   "source": [
    "## Create A Playlist"
   ]
  },
  {
   "cell_type": "code",
   "execution_count": 36,
   "id": "c098a660",
   "metadata": {},
   "outputs": [],
   "source": [
    "#Create a playlist with a list of songs (maximum 20)\n",
    "def create_playlist(songs, recommender, n_songs):\n",
    "    if len(songs) > 20:\n",
    "        return 'Please choose a maximum of 20 songs'\n",
    "    \n",
    "    df_new_playlist = pd.DataFrame(columns = ['Title','Score'])\n",
    "    for song in songs:\n",
    "        df_song = recommender(song, n_songs)\n",
    "        df_new_playlist = pd.concat([df_new_playlist, df_song], axis = 0)\n",
    "    \n",
    "    #Combine the new playlist full of recommendation with original playlist track\n",
    "    df_new_playlist = pd.merge(df_new_playlist, df_tracks, how='left', left_on=['Title'], right_on=['name'])\n",
    "    \n",
    "    #Access the Spotify Client ID and URI\n",
    "    with open('spotify/spotify.yml') as spotify:\n",
    "        spotify_details = yaml.safe_load(spotify)\n",
    "\n",
    "    #Define the scope \n",
    "    scope = 'playlist-modify-private'\n",
    "\n",
    "    #Access the Spotify API\n",
    "    sp = spotipy.Spotify(auth_manager = SpotifyOAuth(\n",
    "        client_id = spotify_details['client_id'],\n",
    "        client_secret = spotify_details['client_secret'],\n",
    "        redirect_uri = spotify_details['redirect_url'],\n",
    "        scope = scope))\n",
    "    \n",
    "    # Create a new playlist for tracks to add - you may also add these tracks to your source playlist and proceed\n",
    "    new_playlist = sp.user_playlist_create(user = spotify_details['user'], \n",
    "                                           name = \"Machine Learning Recommendation System\",\n",
    "                                           public = False, \n",
    "                                           collaborative = False, \n",
    "                                           description = \"Created with automated own recommender systems\",\n",
    "                                          )\n",
    "    #Add the tracks into the playlist\n",
    "    for id in df_new_playlist['id']:\n",
    "        sp.user_playlist_add_tracks(user = spotify_details['user'], playlist_id = new_playlist['id'], tracks = [id])"
   ]
  },
  {
   "cell_type": "code",
   "execution_count": 37,
   "id": "142890f1",
   "metadata": {},
   "outputs": [],
   "source": [
    "#Define the lists full of favorite songs to obtain the recommendation for the playlist\n",
    "combine_songs = ['Careless Whisper','Boulevard of Broken Dreams','Sunflower','Use Somebody']\n",
    "\n",
    "#Execute the function to create playlist\n",
    "create_playlist(combine_songs,recommend_songs_hybrid,10)"
   ]
  }
 ],
 "metadata": {
  "kernelspec": {
   "display_name": "Python 3",
   "language": "python",
   "name": "python3"
  },
  "language_info": {
   "codemirror_mode": {
    "name": "ipython",
    "version": 3
   },
   "file_extension": ".py",
   "mimetype": "text/x-python",
   "name": "python",
   "nbconvert_exporter": "python",
   "pygments_lexer": "ipython3",
   "version": "3.7.4"
  }
 },
 "nbformat": 4,
 "nbformat_minor": 5
}
